{
 "cells": [
  {
   "cell_type": "markdown",
   "metadata": {},
   "source": [
    "### Project Description:\n",
    "This is an extension of the Artificial Agents homework. As you know, the Artificial Agents assignment was meant to create bots to traverse a grid and potentially do more. \n",
    "\n",
    "I have added an additional bot, FollowBot, which will follow other bots around the grid. Otherwise, it will inherit from WanderBot and randomly traverse the grid.\n",
    "\n",
    "I have also added food to the grid. In order for this to be consumed by the bots, I added an eat function that would use the overlapping positions of bots and food to determine if the food has been consumed."
   ]
  },
  {
   "cell_type": "code",
   "execution_count": null,
   "metadata": {},
   "outputs": [],
   "source": [
    "# instantiates the artificial agents\n",
    "# from A4\n",
    "bots = [WanderBot(character = 1078), WanderBot(character = 1078), WanderBot(character = 1078),\n",
    "        ExploreBot(character = 1127), ExploreBot(character = 1127), ExploreBot(character = 1127),\n",
    "        FollowBot(character = 1279), FollowBot(character = 1279)]\n",
    "\n",
    "# Play the board with our bot list\n",
    "play_board(bots, grid_size = 15, n_iter = 50, sleep_time = 0.5)"
   ]
  }
 ],
 "metadata": {
  "kernelspec": {
   "display_name": "Python 3",
   "language": "python",
   "name": "python3"
  },
  "language_info": {
   "codemirror_mode": {
    "name": "ipython",
    "version": 3
   },
   "file_extension": ".py",
   "mimetype": "text/x-python",
   "name": "python",
   "nbconvert_exporter": "python",
   "pygments_lexer": "ipython3",
   "version": "3.6.7"
  }
 },
 "nbformat": 4,
 "nbformat_minor": 2
}
